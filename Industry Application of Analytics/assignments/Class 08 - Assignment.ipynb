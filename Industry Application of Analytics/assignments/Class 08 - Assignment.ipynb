{
 "cells": [
  {
   "cell_type": "markdown",
   "id": "8b37422f",
   "metadata": {},
   "source": [
    "# Assignment\n"
   ]
  },
  {
   "cell_type": "markdown",
   "id": "26c1363e",
   "metadata": {},
   "source": [
    "You have already picked out the dataset you want to work with. \n",
    "\n",
    "----\n",
    "\n",
    "# Question \n",
    "1. EDA, i want to see some insights, present it neatly. \n",
    "2. Nothing else, you are to use **Matplotlib** and **matplotlib** **only** !!\n",
    "3. Make the best presentation possible.\n",
    "\n",
    "\n",
    "Best of luck !!\n",
    "\n",
    "![](https://media.tenor.com/LyLjvOKNGoEAAAAd/good-luck-friend.gif)"
   ]
  },
  {
   "cell_type": "code",
   "execution_count": null,
   "id": "e8d6d307",
   "metadata": {},
   "outputs": [],
   "source": []
  }
 ],
 "metadata": {
  "kernelspec": {
   "display_name": "Python 3 (ipykernel)",
   "language": "python",
   "name": "python3"
  },
  "language_info": {
   "codemirror_mode": {
    "name": "ipython",
    "version": 3
   },
   "file_extension": ".py",
   "mimetype": "text/x-python",
   "name": "python",
   "nbconvert_exporter": "python",
   "pygments_lexer": "ipython3",
   "version": "3.7.16"
  }
 },
 "nbformat": 4,
 "nbformat_minor": 5
}

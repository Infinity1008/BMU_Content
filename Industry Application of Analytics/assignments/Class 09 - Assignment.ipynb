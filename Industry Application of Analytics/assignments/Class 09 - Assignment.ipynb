{
 "cells": [
  {
   "cell_type": "markdown",
   "id": "8b37422f",
   "metadata": {},
   "source": [
    "# Assignment\n"
   ]
  },
  {
   "cell_type": "markdown",
   "id": "26c1363e",
   "metadata": {},
   "source": [
    "You have already picked out the dataset you want to work with. \n",
    "\n",
    "----\n",
    "\n",
    "# Question \n",
    "1. EDA, i want to see some insights, present it neatly. \n",
    "2. Make the best presentation possible.\n",
    "3. Fit a Decision Tree Classifier.\n",
    "4. I want to see your trainning accuracy, testing accuracy and your confusion matrix. \n",
    "5. That's all, nothing more ^_^\n",
    "\n",
    "Best of luck !!\n",
    "\n",
    "![](https://media.tenor.com/fNpgCzeyhwgAAAAC/best-of-luck-good-luck.gif)"
   ]
  },
  {
   "cell_type": "code",
   "execution_count": null,
   "id": "e8d6d307",
   "metadata": {},
   "outputs": [],
   "source": []
  },
  {
   "cell_type": "code",
   "execution_count": null,
   "id": "a3f312d5",
   "metadata": {},
   "outputs": [],
   "source": []
  }
 ],
 "metadata": {
  "kernelspec": {
   "display_name": "Python 3 (ipykernel)",
   "language": "python",
   "name": "python3"
  },
  "language_info": {
   "codemirror_mode": {
    "name": "ipython",
    "version": 3
   },
   "file_extension": ".py",
   "mimetype": "text/x-python",
   "name": "python",
   "nbconvert_exporter": "python",
   "pygments_lexer": "ipython3",
   "version": "3.7.16"
  }
 },
 "nbformat": 4,
 "nbformat_minor": 5
}

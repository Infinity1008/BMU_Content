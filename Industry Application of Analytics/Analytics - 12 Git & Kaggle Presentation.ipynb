{
 "cells": [
  {
   "cell_type": "markdown",
   "id": "6bfa3e04",
   "metadata": {},
   "source": [
    "<h1><center>Industry Application of Analytics </center></h1>\n",
    "\n",
    "![](https://media.giphy.com/media/3oKIPEqDGUULpEU0aQ/giphy.gif)"
   ]
  },
  {
   "cell_type": "markdown",
   "id": "5932fff3",
   "metadata": {},
   "source": [
    "# Topics\n",
    "1. Introduction to Business Analytics. \n",
    "2. Basic Statistics \n",
    "3. Exploratory Data Analysis with pandas\n",
    "4. Data Visualization with Seaborn (optional) \n",
    "5. Modelling with python:- \n",
    "    - Regression \n",
    "        - Linear Regression \n",
    "    - Classification\n",
    "        - Logistic Regression (We meet again !)\n",
    "        - Decision Tree \n",
    "    - Analysing our models\n",
    "6. Data Visualization with Matplotlib \n",
    "7. Churn Analysis\n",
    "8. Social Media Analytics\n",
    "    - Web Scraping\n",
    "9. Marketing Analytics \n",
    "10. Time Series Forecasting \n",
    "11. Supply Chain Analytics (maybe !)\n",
    "12. Social Media Analytics \n",
    "13. Presenting our work !! <------------------------------------------------ **This is where we are**"
   ]
  },
  {
   "cell_type": "markdown",
   "id": "3b3d7558",
   "metadata": {},
   "source": [
    "# Git\n",
    "![](https://git-scm.com/images/logos/downloads/Git-Icon-1788C.png)"
   ]
  },
  {
   "cell_type": "markdown",
   "id": "750e81f7",
   "metadata": {},
   "source": [
    "# Installation\n",
    "We will first install git. \n",
    "- Download the installer for windows by going to this [link.](https://git-scm.com/downloads)\n",
    "- For mac users, we will do this via homebrew.\n",
    "\n",
    "- Download homebrew via typing this command in your terminal \n",
    "\n",
    "```/bin/bash -c \"$(curl -fsSL https://raw.githubusercontent.com/Homebrew/install/HEAD/install.sh)\"```\n",
    "\n",
    "Then, you can install git via this command.\n",
    "\n",
    "```brew install git```.\n",
    "\n",
    "And we are all set to using **git**."
   ]
  },
  {
   "cell_type": "markdown",
   "id": "9d597fa5",
   "metadata": {},
   "source": [
    "# What is git, why do we care\n",
    "First thing we need to understand is what is version control."
   ]
  },
  {
   "cell_type": "markdown",
   "id": "d5fa30e0",
   "metadata": {},
   "source": [
    "### About Version Control\n",
    "Version control is a system that records changes to a file or set of files over time so that you can recall specific versions later. "
   ]
  },
  {
   "cell_type": "markdown",
   "id": "564e0e17",
   "metadata": {},
   "source": [
    "# Local Version Control Systems\n",
    "Many people’s version-control method of choice is to copy files into another directory (perhaps a time-stamped directory, if they’re clever). This approach is very common because it is so simple, but it is also incredibly error prone. It is easy to forget which directory you’re in and accidentally write to the wrong file or copy over files you don’t mean to.\n",
    "\n",
    "To deal with this issue, programmers long ago developed local VCSs that had a simple database that kept all the changes to files under revision control.\n",
    "\n",
    "----\n",
    "\n",
    "![](https://git-scm.com/book/en/v2/images/local.png)"
   ]
  },
  {
   "cell_type": "markdown",
   "id": "450bf657",
   "metadata": {},
   "source": [
    "# Centralized Version Control Systems\n",
    "The next major issue that people encounter is that they need to collaborate with developers on other systems. To deal with this problem, Centralized Version Control Systems (CVCSs) were developed. These systems (such as CVS, Subversion, and Perforce) have a single server that contains all the versioned files, and a number of clients that check out files from that central place. For many years, this has been the standard for version control.\n",
    "\n",
    "---\n",
    "![](https://git-scm.com/book/en/v2/images/centralized.png)\n",
    "\n",
    "This setup offers many advantages, especially over local VCSs. For example, everyone knows to a certain degree what everyone else on the project is doing. Administrators have fine-grained control over who can do what, and it’s far easier to administer a CVCS than it is to deal with local databases on every client.\n",
    "\n",
    "However, this setup also has some serious downsides. The most obvious is the single point of failure that the centralized server represents. If that server goes down for an hour, then during that hour nobody can collaborate at all or save versioned changes to anything they’re working on. If the hard disk the central database is on becomes corrupted, and proper backups haven’t been kept, you lose absolutely everything — the entire history of the project except whatever single snapshots people happen to have on their local machines. Local VCSs suffer from this same problem — whenever you have the entire history of the project in a single place, you risk losing everything."
   ]
  },
  {
   "cell_type": "markdown",
   "id": "e88f56c3",
   "metadata": {},
   "source": [
    "# Distributed Version Control Systems\n",
    "This is where Distributed Version Control Systems (DVCSs) step in. In a DVCS (such as Git, Mercurial, Bazaar or Darcs), clients don’t just check out the latest snapshot of the files; rather, they fully mirror the repository, including its full history. Thus, if any server dies, and these systems were collaborating via that server, any of the client repositories can be copied back up to the server to restore it. Every clone is really a full backup of all the data.\n",
    "\n",
    "---\n",
    "![](https://git-scm.com/book/en/v2/images/distributed.png)"
   ]
  },
  {
   "cell_type": "markdown",
   "id": "b29045ac",
   "metadata": {},
   "source": [
    "# What is Git?\n",
    "So, what is Git in a nutshell? This is an important section to absorb, because if you understand what Git is and the fundamentals of how it works, then using Git effectively will probably be much easier for you. "
   ]
  },
  {
   "cell_type": "markdown",
   "id": "551b6b3a",
   "metadata": {},
   "source": [
    "### Snapshots, Not Differences\n",
    "---\n",
    "![](https://git-scm.com/book/en/v2/images/deltas.png)\n",
    "\n",
    "---\n",
    "With multiple files, it would look something like this.\n",
    "\n",
    "\n",
    "![](https://git-scm.com/book/en/v2/images/snapshots.png)"
   ]
  },
  {
   "cell_type": "markdown",
   "id": "56fe8b74",
   "metadata": {},
   "source": [
    "### The Three States\n",
    "Pay attention now — here is the main thing to remember about Git if you want the rest of your learning process to go smoothly. Git has three main states that your files can reside in: modified, staged, and committed:\n",
    "\n",
    "- Modified means that you have changed the file but have not committed it to your database yet.\n",
    "- Staged means that you have marked a modified file in its current version to go into your next commit snapshot.\n",
    "- Committed means that the data is safely stored in your local database.\n",
    "\n",
    "This leads us to the three main sections of a Git project: the working tree, the staging area, and the Git directory.\n",
    "\n",
    "---\n",
    "![](https://git-scm.com/book/en/v2/images/areas.png)"
   ]
  },
  {
   "cell_type": "markdown",
   "id": "8de7450b",
   "metadata": {},
   "source": [
    "### Your Identity\n",
    "The first thing you should do when you install Git is to set your user name and email address. This is important because every Git commit uses this information, and it’s immutably baked into the commits you start creating:\n",
    "\n",
    "```git config --global user.name \"John Doe\"```\n",
    "\n",
    "---\n",
    "```git config --global user.email johndoe@example.com```"
   ]
  },
  {
   "cell_type": "markdown",
   "id": "dcfc39c7",
   "metadata": {},
   "source": [
    "### Your default branch name\n",
    "By default Git will create a branch called master when you create a new repository with git init. From Git version 2.28 onwards, you can set a different name for the initial branch.\n",
    "\n",
    "To set main as the default branch name do:\n",
    "\n",
    "```git config --global init.defaultBranch main```"
   ]
  },
  {
   "cell_type": "markdown",
   "id": "0817cb96",
   "metadata": {},
   "source": [
    "# Getting a Git Repository\n",
    "You typically obtain a Git repository in one of two ways:\n",
    "\n",
    "- You can take a local directory that is currently not under version control, and turn it into a Git repository, \n",
    "\n",
    "or\n",
    "\n",
    "- You can clone an existing Git repository from elsewhere.\n",
    "\n",
    "In either case, you end up with a Git repository on your local machine, ready for work."
   ]
  },
  {
   "cell_type": "markdown",
   "id": "fd4d00b3",
   "metadata": {},
   "source": [
    "### Initializing a Repository in an Existing Directory\n",
    "\n",
    "```git init```"
   ]
  },
  {
   "cell_type": "markdown",
   "id": "5275e06c",
   "metadata": {},
   "source": [
    "### Cloning an Existing Repository\n",
    "If you want to get a copy of an existing Git repository.\n",
    "\n",
    "```git clone```"
   ]
  },
  {
   "cell_type": "markdown",
   "id": "62139746",
   "metadata": {},
   "source": [
    "# Recording Changes to the Repository\n",
    "At this point, you should have a bona fide Git repository on your local machine, and a checkout or working copy of all of its files in front of you. Typically, you’ll want to start making changes and committing snapshots of those changes into your repository each time the project reaches a state you want to record.\n",
    "\n",
    "Remember that each file in your working directory can be in one of two states: tracked or untracked. Tracked files are files that were in the last snapshot, as well as any newly staged files; they can be unmodified, modified, or staged. In short, tracked files are files that Git knows about.\n",
    "\n",
    "Untracked files are everything else — any files in your working directory that were not in your last snapshot and are not in your staging area. When you first clone a repository, all of your files will be tracked and unmodified because Git just checked them out and you haven’t edited anything.\n",
    "\n",
    "As you edit files, Git sees them as modified, because you’ve changed them since your last commit. As you work, you selectively stage these modified files and then commit all those staged changes, and the cycle repeats.\n",
    "\n",
    "---\n",
    "![](https://git-scm.com/book/en/v2/images/lifecycle.png)"
   ]
  },
  {
   "cell_type": "markdown",
   "id": "0f3f4d7e",
   "metadata": {},
   "source": [
    "### Checking the Status of Your Files\n",
    "The main tool you use to determine which files are in which state is the ```git status``` command. \n",
    "\n",
    "---\n",
    "```git status```"
   ]
  },
  {
   "cell_type": "markdown",
   "id": "702224e8",
   "metadata": {},
   "source": [
    "### Tracking New Files\n",
    "In order to begin tracking a new file, you use the command git add. To begin tracking the README file, you can run this:\n",
    "\n",
    "```git add README```"
   ]
  },
  {
   "cell_type": "markdown",
   "id": "b7dff614",
   "metadata": {},
   "source": [
    "### Staging Modified Files\n",
    "Let’s change a file that was already tracked. If you change a previously tracked file called CONTRIBUTING.md\n",
    "\n",
    "```git add CONTRIBUTING.md```"
   ]
  },
  {
   "cell_type": "markdown",
   "id": "23d48c3e",
   "metadata": {},
   "source": [
    "### Ignoring Files\n",
    "Often, you’ll have a class of files that you don’t want Git to automatically add or even show you as being untracked. \n",
    "\n",
    "These are generally automatically generated files such as log files or files produced by your build system. \n",
    "\n",
    "In such cases, you can create a file listing patterns to match them named ```.gitignore```.\n",
    "\n",
    "---\n",
    "```cat .gitignore```"
   ]
  },
  {
   "cell_type": "markdown",
   "id": "0bff5684",
   "metadata": {},
   "source": [
    "# Committing Your Changes\n",
    "Now that your staging area is set up the way you want it, you can commit your changes. \n",
    "\n",
    "Remember that anything that is still unstaged — any files you have created or modified that you haven’t run git add on since you edited them — won’t go into this commit. They will stay as modified files on your disk. \n",
    "\n",
    "In this case, let’s say that the last time you ran git status, you saw that everything was staged, so you’re ready to commit your changes. The simplest way to commit is to type ```git commit```\n",
    "\n",
    "---\n",
    "```git commit```"
   ]
  },
  {
   "cell_type": "markdown",
   "id": "757b3797",
   "metadata": {},
   "source": [
    "### Removing Files\n",
    "To remove a file from Git, you have to remove it from your tracked files (more accurately, remove it from your staging area) and then commit. The ```git rm``` command does that, and also removes the file from your working directory so you don’t see it as an untracked file the next time around.\n",
    "\n",
    "---\n",
    "```git rm```"
   ]
  },
  {
   "cell_type": "markdown",
   "id": "636a1e30",
   "metadata": {},
   "source": [
    "# Viewing the Commit History\n",
    "After you have created several commits, or if you have cloned a repository with an existing commit history, you’ll probably want to look back to see what has happened. The most basic and powerful tool to do this is the ```git log``` command."
   ]
  },
  {
   "cell_type": "markdown",
   "id": "1f6047f3",
   "metadata": {},
   "source": [
    "# Undoing Things\n",
    "At any stage, you may want to undo something. Here, we’ll review a few basic tools for undoing changes that you’ve made. \n",
    "\n",
    "### Unstaging a Staged File\n",
    "```git reset HEAD CONTRIBUTING.md```\n",
    "\n",
    "---\n",
    "\n",
    "The command is a bit strange, but it works. The CONTRIBUTING.md file is modified but once again unstaged.\n",
    "\n",
    "### Unmodifying a Modified File\n",
    "\n",
    "```git checkout -- CONTRIBUTING.md```\n",
    "\n"
   ]
  },
  {
   "cell_type": "markdown",
   "id": "052d5111",
   "metadata": {},
   "source": [
    "# Undoing things with git restore\n",
    "Git version 2.23.0 introduced a new command: git restore. It’s basically an alternative to git reset which we just covered. \n",
    "\n",
    "### Unstaging a Staged File with git restore\n",
    "\n",
    "```git restore```\n",
    "\n",
    "### Unmodifying a Modified File with git restore\n",
    "\n",
    "```git restore```"
   ]
  },
  {
   "cell_type": "markdown",
   "id": "6e1ee40e",
   "metadata": {},
   "source": [
    "# Working with Remotes\n",
    "To be able to collaborate on any Git project, you need to know how to manage your remote repositories. Remote repositories are versions of your project that are hosted on the Internet or network somewhere. You can have several of them, each of which generally is either read-only or read/write for you. Collaborating with others involves managing these remote repositories and pushing and pulling data to and from them when you need to share work. Managing remote repositories includes knowing how to add remote repositories, remove remotes that are no longer valid, manage various remote branches and define them as being tracked or not, and more. In this section, we’ll cover some of these remote-management skills."
   ]
  },
  {
   "cell_type": "markdown",
   "id": "282590b1",
   "metadata": {},
   "source": [
    "### Showing Your Remotes\n",
    "To see which remote servers you have configured, you can run the ```git remote``` command. It lists the shortnames of each remote handle you’ve specified. If you’ve cloned your repository, you should at least see origin — that is the default name Git gives to the server you cloned from:\n",
    "\n",
    "```git remote```"
   ]
  },
  {
   "cell_type": "markdown",
   "id": "2aad793d",
   "metadata": {},
   "source": [
    "You can also specify -v, which shows you the URLs that Git has stored for the shortname to be used when reading and writing to that remote:\n",
    "\n",
    "```git remote -v```"
   ]
  },
  {
   "cell_type": "markdown",
   "id": "f0f37208",
   "metadata": {},
   "source": [
    "# Github\n",
    "![](https://github.githubassets.com/images/modules/logos_page/GitHub-Mark.png)"
   ]
  },
  {
   "cell_type": "markdown",
   "id": "ce108346",
   "metadata": {},
   "source": [
    "# What is github\n",
    "GitHub is a web-based platform used for version control and collaborative software development. It allows users to host and review code, manage projects, track changes to code, and collaborate with other developers. GitHub is primarily used for open-source software development, but it can also be used for private projects. GitHub offers features such as code reviews, issue tracking, project management, and continuous integration and deployment. It is one of the most popular code hosting platforms, with millions of users and repositories."
   ]
  },
  {
   "cell_type": "markdown",
   "id": "896a0720",
   "metadata": {},
   "source": [
    "### Think of it like this\n",
    "We are going to get a copy of our code and all the versions of it. And, we are going to store them on github so that we can get it back from the internet whenever we want. Not only the current version but all the versions that have existed till now."
   ]
  },
  {
   "cell_type": "markdown",
   "id": "e34f49e5",
   "metadata": {},
   "source": [
    "# Hands on !!\n",
    "![](https://media.tenor.com/oiZT2dT0ZnAAAAAM/disappointed-hands.gif)"
   ]
  },
  {
   "cell_type": "code",
   "execution_count": null,
   "id": "d2c22215",
   "metadata": {},
   "outputs": [],
   "source": []
  },
  {
   "cell_type": "code",
   "execution_count": null,
   "id": "891b0a49",
   "metadata": {},
   "outputs": [],
   "source": []
  }
 ],
 "metadata": {
  "kernelspec": {
   "display_name": "Python 3 (ipykernel)",
   "language": "python",
   "name": "python3"
  },
  "language_info": {
   "codemirror_mode": {
    "name": "ipython",
    "version": 3
   },
   "file_extension": ".py",
   "mimetype": "text/x-python",
   "name": "python",
   "nbconvert_exporter": "python",
   "pygments_lexer": "ipython3",
   "version": "3.7.16"
  }
 },
 "nbformat": 4,
 "nbformat_minor": 5
}

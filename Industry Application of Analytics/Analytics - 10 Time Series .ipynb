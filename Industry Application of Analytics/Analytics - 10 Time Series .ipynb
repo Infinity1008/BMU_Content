{
 "cells": [
  {
   "cell_type": "markdown",
   "id": "6bfa3e04",
   "metadata": {},
   "source": [
    "<h1><center>Industry Application of Analytics </center></h1>\n",
    "\n",
    "![](https://media.giphy.com/media/3oKIPEqDGUULpEU0aQ/giphy.gif)"
   ]
  },
  {
   "cell_type": "markdown",
   "id": "5932fff3",
   "metadata": {},
   "source": [
    "# Topics\n",
    "1. Introduction to Business Analytics. \n",
    "2. Basic Statistics \n",
    "3. Exploratory Data Analysis with pandas\n",
    "4. Data Visualization with Seaborn (optional) \n",
    "5. Modelling with python:- \n",
    "    - Regression \n",
    "        - Linear Regression \n",
    "    - Classification\n",
    "        - Logistic Regression (We meet again !)\n",
    "        - Decision Tree \n",
    "    - Analysing our models\n",
    "6. Data Visualization with Matplotlib \n",
    "7. Churn Analysis\n",
    "8. Social Media Analytics\n",
    "    - Web Scraping\n",
    "9. Marketing Analytics (maybe !)\n",
    "10. Time Series Forecasting (maybe maybe !!)  <------------------------------------------------ **This is where we are**\n",
    "11. Supply Chain Analytics (maybe maybe maybe !!!)"
   ]
  },
  {
   "cell_type": "code",
   "execution_count": null,
   "id": "cbe68eaa",
   "metadata": {},
   "outputs": [],
   "source": []
  },
  {
   "cell_type": "code",
   "execution_count": null,
   "id": "f9c097ca",
   "metadata": {},
   "outputs": [],
   "source": []
  },
  {
   "cell_type": "code",
   "execution_count": null,
   "id": "203b119a",
   "metadata": {},
   "outputs": [],
   "source": []
  },
  {
   "cell_type": "code",
   "execution_count": null,
   "id": "99b1b6e4",
   "metadata": {},
   "outputs": [],
   "source": []
  }
 ],
 "metadata": {
  "kernelspec": {
   "display_name": "Python 3 (ipykernel)",
   "language": "python",
   "name": "python3"
  },
  "language_info": {
   "codemirror_mode": {
    "name": "ipython",
    "version": 3
   },
   "file_extension": ".py",
   "mimetype": "text/x-python",
   "name": "python",
   "nbconvert_exporter": "python",
   "pygments_lexer": "ipython3",
   "version": "3.9.16"
  }
 },
 "nbformat": 4,
 "nbformat_minor": 5
}

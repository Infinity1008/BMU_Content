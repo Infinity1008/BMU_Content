{
 "cells": [
  {
   "cell_type": "markdown",
   "id": "6bfa3e04",
   "metadata": {},
   "source": [
    "<h1><center>Industry Application of Analytics </center></h1>\n",
    "\n",
    "![](https://media.giphy.com/media/3oKIPEqDGUULpEU0aQ/giphy.gif)"
   ]
  },
  {
   "cell_type": "markdown",
   "id": "5932fff3",
   "metadata": {},
   "source": [
    "# Topics\n",
    "1. Introduction to Business Analytics. \n",
    "2. Basic Statistics \n",
    "3. Exploratory Data Analysis with pandas\n",
    "4. Data Visualization with Seaborn (optional) \n",
    "5. Modelling with python:- \n",
    "    - Regression \n",
    "        - Linear Regression \n",
    "    - Classification\n",
    "        - Logistic Regression (We meet again !)\n",
    "        - Decision Tree \n",
    "    - Analysing our models\n",
    "6. Data Visualization with Matplotlib \n",
    "7. Churn Analysis\n",
    "8. Social Media Analytics\n",
    "    - Web Scraping\n",
    "9. Marketing Analytics (maybe !)\n",
    "10. Time Series Forecasting \n",
    "11. Supply Chain Analytics (maybe maybe maybe !!!)\n",
    "12. Social Media Analytics <------------------------------------------------ **This is where we are**"
   ]
  },
  {
   "cell_type": "markdown",
   "id": "641748d5",
   "metadata": {},
   "source": [
    "# We will be working with twitter data."
   ]
  },
  {
   "attachments": {},
   "cell_type": "markdown",
   "id": "15b87f06",
   "metadata": {},
   "source": [
    "Sign up to twitter developer account. By clicking [here](https://developer.twitter.com/en/portal/products/elevated)\n",
    "\n",
    "### The home page will look like this.\n",
    "![](gifs/twitter_developer_home_screen.png)"
   ]
  },
  {
   "cell_type": "markdown",
   "id": "9e52633b",
   "metadata": {},
   "source": [
    "# Step 1\n",
    "We want to create an App. As it would act as a keyholder for my access tokens. "
   ]
  },
  {
   "cell_type": "code",
   "execution_count": null,
   "id": "8c81f59a",
   "metadata": {},
   "outputs": [],
   "source": []
  },
  {
   "cell_type": "code",
   "execution_count": null,
   "id": "1ba87127",
   "metadata": {},
   "outputs": [],
   "source": []
  },
  {
   "cell_type": "code",
   "execution_count": null,
   "id": "cb84adb9",
   "metadata": {},
   "outputs": [],
   "source": []
  },
  {
   "cell_type": "code",
   "execution_count": null,
   "id": "2ae43f8d",
   "metadata": {},
   "outputs": [],
   "source": []
  },
  {
   "cell_type": "code",
   "execution_count": null,
   "id": "5650b2ad",
   "metadata": {},
   "outputs": [],
   "source": []
  },
  {
   "cell_type": "code",
   "execution_count": null,
   "id": "e36508da",
   "metadata": {},
   "outputs": [],
   "source": []
  },
  {
   "cell_type": "code",
   "execution_count": null,
   "id": "dcf8f409",
   "metadata": {},
   "outputs": [],
   "source": []
  }
 ],
 "metadata": {
  "kernelspec": {
   "display_name": "Python 3 (ipykernel)",
   "language": "python",
   "name": "python3"
  },
  "language_info": {
   "codemirror_mode": {
    "name": "ipython",
    "version": 3
   },
   "file_extension": ".py",
   "mimetype": "text/x-python",
   "name": "python",
   "nbconvert_exporter": "python",
   "pygments_lexer": "ipython3",
   "version": "3.7.16"
  }
 },
 "nbformat": 4,
 "nbformat_minor": 5
}
